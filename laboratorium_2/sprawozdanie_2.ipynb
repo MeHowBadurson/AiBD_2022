{
 "cells": [
  {
   "cell_type": "markdown",
   "source": [
    "Sprawozdanie 2: Łączenie z bazą danych i instrukcja SELECT\n",
    "<br>\n",
    "Autor: Michał Badura, numer albumu: 407049"
   ],
   "metadata": {
    "collapsed": false
   }
  },
  {
   "cell_type": "code",
   "execution_count": 65,
   "outputs": [
    {
     "name": "stdout",
     "output_type": "stream",
     "text": [
      "    category_id         name         last_update\n",
      "0             1       Action 2006-02-15 09:46:27\n",
      "1             2    Animation 2006-02-15 09:46:27\n",
      "2             3     Children 2006-02-15 09:46:27\n",
      "3             4     Classics 2006-02-15 09:46:27\n",
      "4             5       Comedy 2006-02-15 09:46:27\n",
      "5             6  Documentary 2006-02-15 09:46:27\n",
      "6             7        Drama 2006-02-15 09:46:27\n",
      "7             8       Family 2006-02-15 09:46:27\n",
      "8             9      Foreign 2006-02-15 09:46:27\n",
      "9            10        Games 2006-02-15 09:46:27\n",
      "10           11       Horror 2006-02-15 09:46:27\n",
      "11           12        Music 2006-02-15 09:46:27\n",
      "12           13          New 2006-02-15 09:46:27\n",
      "13           14       Sci-Fi 2006-02-15 09:46:27\n",
      "14           15       Sports 2006-02-15 09:46:27\n",
      "15           16       Travel 2006-02-15 09:46:27\n"
     ]
    }
   ],
   "source": [
    "import psycopg2 as pg\n",
    "import pandas as pd\n",
    "\n",
    "connection = pg.connect(host='pgsql-196447.vipserv.org', port=5432, dbname='wbauer_adb', user='wbauer_adb', password='adb2020')\n",
    "\n",
    "category = pd.read_sql('select * from category',con=connection)\n",
    "print(category)"
   ],
   "metadata": {
    "collapsed": false
   }
  },
  {
   "cell_type": "markdown",
   "source": [
    "Ćwiczenie 1:"
   ],
   "metadata": {
    "collapsed": false
   }
  },
  {
   "cell_type": "code",
   "execution_count": 66,
   "outputs": [
    {
     "name": "stdout",
     "output_type": "stream",
     "text": [
      "Liczba kategorii filmów wynosi: \n",
      "    count\n",
      "0     16\n"
     ]
    }
   ],
   "source": [
    "number = pd.read_sql('select count(name) from category',con=connection)\n",
    "\n",
    "print(\"Liczba kategorii filmów wynosi: \\n {}\".format(number))"
   ],
   "metadata": {
    "collapsed": false
   }
  },
  {
   "cell_type": "markdown",
   "source": [
    "Ćwiczenie 2:"
   ],
   "metadata": {
    "collapsed": false
   }
  },
  {
   "cell_type": "code",
   "execution_count": 67,
   "outputs": [
    {
     "name": "stdout",
     "output_type": "stream",
     "text": [
      "           name\n",
      "0        Action\n",
      "1     Animation\n",
      "2      Children\n",
      "3      Classics\n",
      "4        Comedy\n",
      "5   Documentary\n",
      "6         Drama\n",
      "7        Family\n",
      "8       Foreign\n",
      "9         Games\n",
      "10       Horror\n",
      "11        Music\n",
      "12          New\n",
      "13       Sci-Fi\n",
      "14       Sports\n",
      "15       Travel\n"
     ]
    }
   ],
   "source": [
    "\n",
    "alphabetical = pd.read_sql('select name '\n",
    "                           'from category '\n",
    "                           'order by name ASC;',con=connection)\n",
    "print(alphabetical)"
   ],
   "metadata": {
    "collapsed": false
   }
  },
  {
   "cell_type": "markdown",
   "source": [
    "Ćwiczenie 3:"
   ],
   "metadata": {
    "collapsed": false
   }
  },
  {
   "cell_type": "markdown",
   "source": [
    "oldest = pd.read_sql('select title '\n",
    "                     'from film '\n",
    "                     'order by release_year ASC '\n",
    "                        'limit 1' , con=connection)\n",
    "\n",
    "youngest = pd.read_sql('select title '\n",
    "                     'from film '\n",
    "                     'order by release_year DESC '\n",
    "                        'limit 1', con=connection)\n",
    "print(\"Najstarszy film: {} \\n\".format(oldest))\n",
    "print(\"Najmłodszy film: {} \\n\".format(youngest))\n"
   ],
   "metadata": {
    "collapsed": false
   }
  },
  {
   "cell_type": "markdown",
   "source": [
    "Ćwiczenie 4:"
   ],
   "metadata": {
    "collapsed": false
   }
  },
  {
   "cell_type": "code",
   "execution_count": 68,
   "outputs": [
    {
     "ename": "SyntaxError",
     "evalue": "EOL while scanning string literal (<ipython-input-68-2a888790b624>, line 3)",
     "output_type": "error",
     "traceback": [
      "\u001B[1;36m  File \u001B[1;32m\"<ipython-input-68-2a888790b624>\"\u001B[1;36m, line \u001B[1;32m3\u001B[0m\n\u001B[1;33m    'where ((rental_date <= \"2005-08-01\") and (rental_date >= \"2005-07-01\")), con=connection)\u001B[0m\n\u001B[1;37m                                                                                             ^\u001B[0m\n\u001B[1;31mSyntaxError\u001B[0m\u001B[1;31m:\u001B[0m EOL while scanning string literal\n"
     ]
    }
   ],
   "source": [
    "rental_between = pd.read_sql('select * '\n",
    "                             'from rental '\n",
    "                             'where ((rental_date <= \"2005-08-01\") and (rental_date >= \"2005-07-01\")), con=connection)\n",
    "print(rental_between)"
   ],
   "metadata": {
    "collapsed": false
   }
  },
  {
   "cell_type": "markdown",
   "source": [
    "Ćwiczenie 5:"
   ],
   "metadata": {
    "collapsed": false
   }
  },
  {
   "cell_type": "code",
   "execution_count": null,
   "outputs": [],
   "source": [],
   "metadata": {
    "collapsed": false
   }
  },
  {
   "cell_type": "markdown",
   "source": [
    "Ćwiczenie 6:"
   ],
   "metadata": {
    "collapsed": false
   }
  },
  {
   "cell_type": "code",
   "execution_count": 71,
   "outputs": [
    {
     "name": "stdout",
     "output_type": "stream",
     "text": [
      "   payment_id  customer_id  staff_id  rental_id  amount  \\\n",
      "0       20403          362         1      14759   11.99   \n",
      "\n",
      "                payment_date  \n",
      "0 2007-03-21 21:57:24.996577  \n"
     ]
    }
   ],
   "source": [
    "biggest_payment = pd.read_sql('select * '\n",
    "                              'from payment '\n",
    "                              'order by amount DESC '\n",
    "                              'limit 1', con=connection)\n",
    "print(biggest_payment)"
   ],
   "metadata": {
    "collapsed": false
   }
  },
  {
   "cell_type": "markdown",
   "source": [
    "Ćwiczenie 7:"
   ],
   "metadata": {
    "collapsed": false
   }
  },
  {
   "cell_type": "code",
   "execution_count": null,
   "outputs": [],
   "source": [
    "client = pd.read_sql()"
   ],
   "metadata": {
    "collapsed": false
   }
  },
  {
   "cell_type": "code",
   "execution_count": null,
   "outputs": [],
   "source": [],
   "metadata": {
    "collapsed": false
   }
  }
 ],
 "metadata": {
  "kernelspec": {
   "display_name": "Python 3",
   "language": "python",
   "name": "python3"
  },
  "language_info": {
   "codemirror_mode": {
    "name": "ipython",
    "version": 2
   },
   "file_extension": ".py",
   "mimetype": "text/x-python",
   "name": "python",
   "nbconvert_exporter": "python",
   "pygments_lexer": "ipython2",
   "version": "2.7.6"
  }
 },
 "nbformat": 4,
 "nbformat_minor": 0
}
